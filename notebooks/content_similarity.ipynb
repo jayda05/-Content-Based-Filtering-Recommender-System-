{
  "nbformat": 4,
  "nbformat_minor": 0,
  "metadata": {
    "colab": {
      "provenance": []
    },
    "kernelspec": {
      "name": "python3",
      "display_name": "Python 3"
    },
    "language_info": {
      "name": "python"
    }
  },
  "cells": [
    {
      "cell_type": "code",
      "source": [
        "import pandas as pd\n",
        "from sklearn.feature_extraction.text import TfidfVectorizer\n",
        "from sklearn.metrics.pairwise import cosine_similarity\n",
        "import json\n",
        "\n",
        "# step 1: Load the data\n",
        "df = pd.read_csv('processed_news.csv')\n"
      ],
      "metadata": {
        "id": "l3ibXrd17WDm"
      },
      "execution_count": 21,
      "outputs": []
    },
    {
      "cell_type": "code",
      "source": [
        "# step 2 :  Extract text from the JSON-like columns\n",
        "def extract_text(row):\n",
        "    # Try to parse the JSON data\n",
        "    try:\n",
        "        entities = json.loads(row[0])  # First column appears to contain entities\n",
        "        text = row[2]  # Third column appears to contain the article text\n",
        "        return text\n",
        "    except:\n",
        "        return str(row)  # Fallback if parsing fails\n",
        "\n",
        "# Create a clean text column\n",
        "df['clean_text'] = df.apply(extract_text, axis=1)"
      ],
      "metadata": {
        "colab": {
          "base_uri": "https://localhost:8080/"
        },
        "id": "VAbA7aUV9IF_",
        "outputId": "567ac3f7-fd68-4f10-bbca-84349904a319"
      },
      "execution_count": 22,
      "outputs": [
        {
          "output_type": "stream",
          "name": "stderr",
          "text": [
            "<ipython-input-22-1f56961a9a62>:5: FutureWarning: Series.__getitem__ treating keys as positions is deprecated. In a future version, integer keys will always be treated as labels (consistent with DataFrame behavior). To access a value by position, use `ser.iloc[pos]`\n",
            "  entities = json.loads(row[0])  # First column appears to contain entities\n",
            "<ipython-input-22-1f56961a9a62>:6: FutureWarning: Series.__getitem__ treating keys as positions is deprecated. In a future version, integer keys will always be treated as labels (consistent with DataFrame behavior). To access a value by position, use `ser.iloc[pos]`\n",
            "  text = row[2]  # Third column appears to contain the article text\n"
          ]
        }
      ]
    },
    {
      "cell_type": "code",
      "source": [
        "# step 3: Define user interests\n",
        "user_interests = \"technology ai computers innovation\""
      ],
      "metadata": {
        "id": "CB0bHd0o9MbV"
      },
      "execution_count": 23,
      "outputs": []
    },
    {
      "cell_type": "code",
      "source": [
        "# step 4 : Create TF-IDF vectors\n",
        "tfidf = TfidfVectorizer(max_features=1000, stop_words='english')\n",
        "article_vectors = tfidf.fit_transform(df['clean_text'].fillna(''))\n",
        "user_vector = tfidf.transform([user_interests])"
      ],
      "metadata": {
        "id": "eyMSvLo19QCA"
      },
      "execution_count": 24,
      "outputs": []
    },
    {
      "cell_type": "code",
      "source": [
        "# step 5: Calculate similarities\n",
        "df['similarity'] = cosine_similarity(user_vector, article_vectors)[0]"
      ],
      "metadata": {
        "id": "aOBOqt7R9S1-"
      },
      "execution_count": 25,
      "outputs": []
    },
    {
      "cell_type": "code",
      "source": [
        "# step 6: Show top matching articles\n",
        "# The third column appears to contain article text - we'll use that for display\n",
        "if len(df.columns) > 2:\n",
        "    display_column = df.columns[2]\n",
        "else:\n",
        "    display_column = 'clean_text'\n",
        "\n",
        "top_articles = df.sort_values('similarity', ascending=False)[[display_column, 'similarity']].head(10)\n",
        "\n",
        "print(\"\\nTop recommended articles:\")\n",
        "for i, (text, score) in enumerate(zip(top_articles[display_column], top_articles['similarity']), 1):\n",
        "    print(f\"\\n{i}. Score: {score:.3f}\")\n",
        "    print(text[:500] + \"...\" if len(text) > 500 else text)"
      ],
      "metadata": {
        "colab": {
          "base_uri": "https://localhost:8080/"
        },
        "id": "vQwMJ-mN9Vle",
        "outputId": "3408246d-ce3d-4e5e-9b32-4111d22e97cc"
      },
      "execution_count": 26,
      "outputs": [
        {
          "output_type": "stream",
          "name": "stdout",
          "text": [
            "\n",
            "Top recommended articles:\n",
            "\n",
            "1. Score: 0.000\n",
            "Here's Exactly What Kristen Bell Eats in a Day to Make 39 Look Like 29 Find out how the actress, entrepreneur, activist and mom of two ages with grace.\n",
            "\n",
            "2. Score: 0.000\n",
            "2019 Arizona high school girls volleyball state playoff preview: 4A, 5A and 6A conferences List of the top eight seeds in the 1A, 4A, 5A and 6A brackets, top storylines, best players, favored and sleeper team picks to win.\n",
            "\n",
            "3. Score: 0.000\n",
            "Local doctor says new migraine medicine brings hope The U.S. Food and Drug Administration has approved a new migraine medicine, expected to work within two hours. \"Its exciting,\" said Dr. Andrea Synowiec, assistant Director for Allegheny Health Network's Headache Center at West Penn Hospital. \"As we see patients come back and we know they don't have a good therapy, to be able to offer something that might work is really rewarding.\" The drug, Reyvow, was approved after two randomized,...\n",
            "\n",
            "4. Score: 0.000\n",
            "Mariota already benched with Winston looking to bounce back NASHVILLE, Tenn. (AP)   Jameis Winston is coming off the worst game of his career, though the No. 1 overall pick in 2015 remains the starter for the Tampa Bay Buccaneers. The Tennessee Titans already have benched Marcus Mariota, the quarterback drafted a spot later. The previous time these teams met was Sept. 13, 2015, pitting that year's top two draft picks against each other, and Mariota turned in a nearly perfect performance in a big...\n",
            "\n",
            "5. Score: 0.000\n",
            "'It's devastating' | Cardinal Ritter season canceled; local coach says students shouldn't be punished Under the Friday night lights, top-ranked Cardinal Ritter was supposed to be taking on Granite City at home. \"It's like David versus Goliath, Cardinal Ritter number one team over here in Missouri, we a no-name team in southern Illinois,\" said Granite City Coach Orlando Gooden. \"It was a storybook.\" That tale took a drastic turn after Cardinal Ritter admitted to using an ineligible player in its ...\n",
            "\n",
            "6. Score: 0.000\n",
            "Assad Sends Syrian Troops North as Turkish Offensive Escalates Syrian government forces pushed closer to the Turkish border after striking a deal with Kurdish fighters, as Washington's decision to abandon its allies reverberated on the battlefield.\n",
            "\n",
            "7. Score: 0.000\n",
            "Surprise! Donald Trump to headline Florida Republican Party event in December, Ron DeSantis says A day after the Republican Party of Florida announced it was postponing its biggest fundraiser of the year, Gov. Ron DeSantis on Tuesday said the event is back on and will have a special headliner: President Donald Trump. The party's annual Statesman dinner, previously scheduled for Nov. 9, was cancelled amid rumors of strife within the state GOP and concerns over lack of donors and ...\n",
            "\n",
            "8. Score: 0.000\n",
            "Microsoft Surface Neo: release date, news and features Do you want the red pill, or the blue pill? Or the dual-screen tablet?\n",
            "\n",
            "9. Score: 0.000\n",
            "Diahann Carroll, Pioneering Actress on 'Julia' and 'Dynasty,' Dies at 84 She also landed a historic Tony Award, plus an Oscar nomination for her performance in 'Claudine.'\n",
            "\n",
            "10. Score: 0.000\n",
            "Would You Like Fries With That? McDonald's Already Knows the Answer McDonald's has a new plan to sell more Big Macs: act like Big Tech. Over the last seven months, McDonald's has spent hundreds of millions of dollars to acquire technology companies that specialize in artificial intelligence and machine learning. And the fast-food chain has even established a new tech hub in the heart of Silicon Valley   the McD Tech Labs   where a team of engineers and data scientists is working on voice-recogni...\n"
          ]
        }
      ]
    },
    {
      "cell_type": "code",
      "source": [
        "# step 7: Save results\n",
        "top_articles.to_csv('recommendations.csv', index=False)"
      ],
      "metadata": {
        "id": "-mQtAxvQ9YyJ"
      },
      "execution_count": 27,
      "outputs": []
    }
  ]
}