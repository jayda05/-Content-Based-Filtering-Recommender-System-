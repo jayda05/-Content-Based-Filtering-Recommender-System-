{
  "nbformat": 4,
  "nbformat_minor": 0,
  "metadata": {
    "colab": {
      "provenance": []
    },
    "kernelspec": {
      "name": "python3",
      "display_name": "Python 3"
    },
    "language_info": {
      "name": "python"
    }
  },
  "cells": [
    {
      "cell_type": "code",
      "execution_count": 5,
      "metadata": {
        "colab": {
          "base_uri": "https://localhost:8080/"
        },
        "id": "JipHcHbF-Ls-",
        "outputId": "341c0ad0-b760-44c6-ec83-a86abb8daa73"
      },
      "outputs": [
        {
          "output_type": "stream",
          "name": "stdout",
          "text": [
            "Available columns: [\"Chicago Strike: CPS, CTU enter 9th day with 'good progress' in negotiations As Chicago Public Schools classes are canceled for a seventh day Friday, there is optimism that the Chicago teachers strike may be close to an end.\", 'similarity']\n",
            "\n",
            "Top 10 Recommended Articles (using column 'Chicago Strike: CPS, CTU enter 9th day with 'good progress' in negotiations As Chicago Public Schools classes are canceled for a seventh day Friday, there is optimism that the Chicago teachers strike may be close to an end.'):\n",
            "============================================================\n",
            "\n",
            "1. Similarity: 0.000\n",
            "Here's Exactly What Kristen Bell Eats in a Day to Make 39 Look Like 29 Find out how the actress, entrepreneur, activist and mom of two ages with grace.\n",
            "\n",
            "2. Similarity: 0.000\n",
            "2019 Arizona high school girls volleyball state playoff preview: 4A, 5A and 6A conferences List of the top eight seeds in the 1A, 4A, 5A and 6A brackets, top storylines, best players, favored and sleeper team picks to win.\n",
            "\n",
            "3. Similarity: 0.000\n",
            "Local doctor says new migraine medicine brings hope The U.S. Food and Drug Administration has approved a new migraine medicine, expected to work within two hours. \"Its exciting,\" said Dr. Andrea Synowiec, assistant Director for Allegheny Health Network's Headache Center at West Penn Hospital. \"As we see patients come back and we know they don't have a good therapy, to be able to offer something that might work is really rewarding.\" The drug, Reyvow, was approved after two randomized,...\n",
            "\n",
            "4. Similarity: 0.000\n",
            "Mariota already benched with Winston looking to bounce back NASHVILLE, Tenn. (AP)   Jameis Winston is coming off the worst game of his career, though the No. 1 overall pick in 2015 remains the starter for the Tampa Bay Buccaneers. The Tennessee Titans already have benched Marcus Mariota, the quarterback drafted a spot later. The previous time these teams met was Sept. 13, 2015, pitting that year's top two draft picks against each other, and Mariota turned in a nearly perfect performance in a big win. Now...\n",
            "\n",
            "5. Similarity: 0.000\n",
            "'It's devastating' | Cardinal Ritter season canceled; local coach says students shouldn't be punished Under the Friday night lights, top-ranked Cardinal Ritter was supposed to be taking on Granite City at home. \"It's like David versus Goliath, Cardinal Ritter number one team over here in Missouri, we a no-name team in southern Illinois,\" said Granite City Coach Orlando Gooden. \"It was a storybook.\" That tale took a drastic turn after Cardinal Ritter admitted to using an ineligible player in its season opener. On Friday, it was announced that...\n",
            "\n",
            "6. Similarity: 0.000\n",
            "Assad Sends Syrian Troops North as Turkish Offensive Escalates Syrian government forces pushed closer to the Turkish border after striking a deal with Kurdish fighters, as Washington's decision to abandon its allies reverberated on the battlefield.\n",
            "\n",
            "7. Similarity: 0.000\n",
            "Surprise! Donald Trump to headline Florida Republican Party event in December, Ron DeSantis says A day after the Republican Party of Florida announced it was postponing its biggest fundraiser of the year, Gov. Ron DeSantis on Tuesday said the event is back on and will have a special headliner: President Donald Trump. The party's annual Statesman dinner, previously scheduled for Nov. 9, was cancelled amid rumors of strife within the state GOP and concerns over lack of donors and ...\n",
            "\n",
            "8. Similarity: 0.000\n",
            "Microsoft Surface Neo: release date, news and features Do you want the red pill, or the blue pill? Or the dual-screen tablet?\n",
            "\n",
            "9. Similarity: 0.000\n",
            "Diahann Carroll, Pioneering Actress on 'Julia' and 'Dynasty,' Dies at 84 She also landed a historic Tony Award, plus an Oscar nomination for her performance in 'Claudine.'\n",
            "\n",
            "10. Similarity: 0.000\n",
            "Would You Like Fries With That? McDonald's Already Knows the Answer McDonald's has a new plan to sell more Big Macs: act like Big Tech. Over the last seven months, McDonald's has spent hundreds of millions of dollars to acquire technology companies that specialize in artificial intelligence and machine learning. And the fast-food chain has even established a new tech hub in the heart of Silicon Valley   the McD Tech Labs   where a team of engineers and data scientists is working on voice-recognition software....\n",
            "\n",
            "Recommendations saved to 'top_recommendations.csv'\n"
          ]
        }
      ],
      "source": [
        "import pandas as pd\n",
        "\n",
        "# 1. Load the similarity-scored data\n",
        "try:\n",
        "    df = pd.read_csv(\"recommendations.csv\")\n",
        "\n",
        "    # Print available columns for debugging\n",
        "    print(\"Available columns:\", df.columns.tolist())\n",
        "\n",
        "    # 2. Find which column contains article titles (if any)\n",
        "    possible_title_columns = ['title', 'headline', 'article_title', 'name', 'content']\n",
        "    title_column = None\n",
        "\n",
        "    for col in possible_title_columns:\n",
        "        if col in df.columns:\n",
        "            title_column = col\n",
        "            break\n",
        "\n",
        "    if title_column is None:\n",
        "        # If no title column found, use the first text-like column\n",
        "        text_columns = [col for col in df.columns if df[col].dtype == 'object']\n",
        "        if text_columns:\n",
        "            title_column = text_columns[0]\n",
        "        else:\n",
        "            raise ValueError(\"No suitable column found for article titles\")\n",
        "\n",
        "    # 3. Get top 10 recommendations\n",
        "    top_recommendations = df.nlargest(10, 'similarity')\n",
        "\n",
        "    # 4. Display recommendations\n",
        "    print(f\"\\nTop 10 Recommended Articles (using column '{title_column}'):\")\n",
        "    print(\"=\"*60)\n",
        "    for i, row in top_recommendations.iterrows():\n",
        "        print(f\"\\n{i+1}. Similarity: {row['similarity']:.3f}\")\n",
        "        print(row[title_column])\n",
        "\n",
        "    # 5. Save recommendations\n",
        "    output_columns = [title_column, 'similarity']\n",
        "    top_recommendations[output_columns].to_csv(\"top_recommendations.csv\", index=False)\n",
        "    print(\"\\nRecommendations saved to 'top_recommendations.csv'\")\n",
        "\n",
        "except FileNotFoundError:\n",
        "    print(\"Error: File 'similarity_scored_news.csv' not found\")\n",
        "except KeyError as e:\n",
        "    print(f\"Error: Required column not found - {e}\")\n",
        "except Exception as e:\n",
        "    print(f\"An error occurred: {str(e)}\")"
      ]
    }
  ]
}